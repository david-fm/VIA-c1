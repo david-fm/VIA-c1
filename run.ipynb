{
 "cells": [
  {
   "cell_type": "code",
   "execution_count": 1,
   "metadata": {},
   "outputs": [],
   "source": [
    "from model import *\n",
    "train_grid_conv = [\n",
    "# Convolutional layers\n",
    "[[32, 64, 64], [32, 64, 0], [32, 0, 0], [10, 20, 20], [10,20,0]],\n",
    "#Dense layers\n",
    "[0, 10, 20, 64],\n",
    "# Epochs\n",
    "[5,10, 15, 20]]\n",
    "mini_train_grid_conv = [\n",
    "# Convolutional layers\n",
    "[[32, 64, 64]],\n",
    "#Dense layers\n",
    "[64],\n",
    "# Epochs\n",
    "[5,10]]\n",
    "train_grid_linear = [\n",
    "# Dense layers\n",
    "[0, 10, 20, 64],\n",
    "# Epochs\n",
    "[5,10, 15, 20]]\n",
    "mini_train_grid_linear = [\n",
    "# Dense layers\n",
    "[64],\n",
    "# Epochs\n",
    "[5,10]]\n",
    "\n",
    "# train_points, train_labels, test_points, test_labels = LinearModel.get_data(PREPROCESSED_DATA_PATH)\n",
    "# grid = LinearTrainingGrid(*mini_train_grid_linear)\n",
    "# models = grid.train(train_points, train_labels)\n",
    "# best_model = grid.compare(models, test_points, test_labels)\n",
    "\n",
    "\n",
    "\n",
    "train_images,train_labels,test_images,test_labels = ConvModel.get_data(DATA_PATH)\n",
    "processed_train_images, processed_train_labels, processed_test_images, processed_test_labels = ConvModel.get_data(PREPROCESSED_DATA_PATH)\n",
    "tf.random.set_seed(1234)\n",
    "tf.config.experimental.enable_op_determinism()\n",
    "grid = ConvTrainingGrid(*mini_train_grid_conv)\n",
    "basic_models = grid.train(train_images, train_labels)\n",
    "processed_models = grid.train(processed_train_images, processed_train_labels)\n",
    "best_model = grid.compare(basic_models, test_images, test_labels)\n",
    "processed_best_model = grid.compare(processed_models, processed_test_images, processed_test_labels)"
   ]
  }
 ],
 "metadata": {
  "kernelspec": {
   "display_name": "via",
   "language": "python",
   "name": "python3"
  },
  "language_info": {
   "codemirror_mode": {
    "name": "ipython",
    "version": 3
   },
   "file_extension": ".py",
   "mimetype": "text/x-python",
   "name": "python",
   "nbconvert_exporter": "python",
   "pygments_lexer": "ipython3",
   "version": "3.11.5"
  }
 },
 "nbformat": 4,
 "nbformat_minor": 2
}
